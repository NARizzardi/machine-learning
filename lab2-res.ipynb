import kagglehub

# Autenticação
kagglehub.login() # Logue em sua conta do Kaggle

# Download latest version
path = kagglehub.dataset_download("yasserh/titanic-dataset")

print("Path to dataset files:", path)
# Continue seu código :)
# -*- coding: utf-8 -*-

import numpy as np # importa a biblioteca usada para trabalhar com vetores e matrizes
import pandas as pd # importa a biblioteca usada para trabalhar com dataframes (dados em formato de tabela) e análise de dados

# bibliotecas usadas para geracao de graficos
import seaborn as sns
import matplotlib.pyplot as plt
from sklearn.preprocessing import OneHotEncoder
print('Bibliotecas carregadas com sucesso')

def trataCabines (df_dataset):
  idxRowNan = pd.isnull(df_dataset['Cabin']).to_numpy().nonzero()[0]
  df = df_dataset.ilco[idxRowNan]
  df = df.fillna(0)
  display(df)
  #return df

# importa o arquivo e guarda em um dataframe do Pandas
df_dataset = pd.read_csv(path+'/Titanic-Dataset.csv', sep=',', index_col=None)
print('Dados importados com sucesso!')

# exibe o dataframe
#display(df_dataset)

# Pré-processamento: eliminação de atributos irrelevantes
df_dataset = df_dataset.drop(columns=['PassengerId', 'Name', 'Ticket', 'Age'])

# Pré-processamento: codificando variáveis categóricas nominais
ohe_encoder = OneHotEncoder(sparse_output=False, drop='first') # `drop` para evitar a "Dummy Variable Trap"
port_encoded = ohe_encoder.fit_transform(df_dataset[['Embarked']])
port_df = pd.DataFrame(port_encoded, columns=ohe_encoder.get_feature_names_out(['Embarked']))
port_df = port_df.drop(columns=['Embarked_nan'])
df = pd.concat([df_dataset, port_df], axis=1)
#display(df)

df = trataCabines(df)

# Pré-processamento: tratamento de atributos com valores ausentes
idxRowNan = pd.isnull(df['Embarked']).to_numpy().nonzero()[0]
df = df.drop(idxRowNan)
display(df)

